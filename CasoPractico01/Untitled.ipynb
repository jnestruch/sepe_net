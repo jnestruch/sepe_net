{
 "cells": [
  {
   "cell_type": "markdown",
   "metadata": {},
   "source": [
    "## Caso práctico 1\n",
    "\n",
    "A continuación se muestra el código del modulo del programa realizado en .NET VB con los comentarios correspondientes."
   ]
  },
  {
   "cell_type": "code",
   "execution_count": null,
   "metadata": {},
   "outputs": [],
   "source": [
    "Module Program\n",
    "\n",
    "    ' Función para comprobar el tipo de dato entrado por el usurio\n",
    "    ' Debe ser un valor numérico\n",
    "    Function IsValidInput(sInput As Object) As Boolean\n",
    "        Return IsNumeric(sInput)\n",
    "    End Function"
   ]
  }
 ],
 "metadata": {
  "kernelspec": {
   "display_name": "Python 3",
   "language": "python",
   "name": "python3"
  },
  "language_info": {
   "codemirror_mode": {
    "name": "ipython",
    "version": 3
   },
   "file_extension": ".py",
   "mimetype": "text/x-python",
   "name": "python",
   "nbconvert_exporter": "python",
   "pygments_lexer": "ipython3",
   "version": "3.8.5"
  }
 },
 "nbformat": 4,
 "nbformat_minor": 4
}
